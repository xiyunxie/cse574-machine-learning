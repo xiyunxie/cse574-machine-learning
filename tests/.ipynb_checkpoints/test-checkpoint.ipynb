{
 "cells": [
  {
   "cell_type": "code",
   "execution_count": null,
   "metadata": {},
   "outputs": [],
   "source": []
  },
  {
   "cell_type": "code",
   "execution_count": null,
   "metadata": {},
   "outputs": [],
   "source": [
    "lst = [6,1,4,5]\n",
    "a = [0.1,0.2,0.3,0.4]\n",
    "b = [0.4,0.3,0.2,0.1]\n",
    "r1 = lst[0]**a[0]*lst[1]**a[1]*lst[2]**a[2]*lst[3]**a[3]\n",
    "r2 = lst[0]**b[0]*lst[1]**b[1]*lst[2]**b[2]*lst[3]**b[3]\n",
    "print(r1)\n",
    "print(r2)"
   ]
  }
 ],
 "metadata": {
  "kernelspec": {
   "display_name": "Python 3",
   "language": "python",
   "name": "python3"
  },
  "language_info": {
   "codemirror_mode": {
    "name": "ipython",
    "version": 3
   },
   "file_extension": ".py",
   "mimetype": "text/x-python",
   "name": "python",
   "nbconvert_exporter": "python",
   "pygments_lexer": "ipython3",
   "version": "3.7.6"
  }
 },
 "nbformat": 4,
 "nbformat_minor": 2
}
