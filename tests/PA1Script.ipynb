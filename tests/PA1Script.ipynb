{
 "cells": [
  {
   "cell_type": "markdown",
   "metadata": {},
   "source": [
    "# CSE474/574 - Programming Assignment 1\n",
    "\n",
    "For grading, we will execute the submitted notebook as follows:\n",
    "\n",
    "```shell\n",
    "jupyter nbconvert --to python PA1Script.ipynb\n",
    "python PA1Script.py\n",
    "```"
   ]
  },
  {
   "cell_type": "code",
   "execution_count": 1,
   "metadata": {},
   "outputs": [],
   "source": [
    "import numpy as np\n",
    "from scipy.optimize import minimize\n",
    "import matplotlib.pyplot as plt\n",
    "import pickle\n",
    "import math\n",
    "import random"
   ]
  },
  {
   "cell_type": "markdown",
   "metadata": {},
   "source": [
    "## Part 1 - Linear Regression"
   ]
  },
  {
   "cell_type": "markdown",
   "metadata": {},
   "source": [
    "### Problem 1 - Linear Regression with Direct Minimization"
   ]
  },
  {
   "cell_type": "code",
   "execution_count": 69,
   "metadata": {},
   "outputs": [
    {
     "name": "stdout",
     "output_type": "stream",
     "text": [
      "PROBLEM 1\n",
      "----------\n"
     ]
    }
   ],
   "source": [
    "print('PROBLEM 1')\n",
    "print('----------')"
   ]
  },
  {
   "cell_type": "code",
   "execution_count": 2,
   "metadata": {},
   "outputs": [],
   "source": [
    "def learnOLERegression(Xtrain,ytrain):\n",
    "#    print(Xtrain)\n",
    "#    print(\"------------\")\n",
    "#    A=np.array(Xtrain)\n",
    "   A = Xtrain\n",
    "   B = ytrain\n",
    "#    B=np.array(ytrain)\n",
    "   At =np.transpose(A)\n",
    "   AtA=np.dot(At,A)\n",
    "   AtA_Inverse=np.linalg.inv(AtA)\n",
    "   AtA_InverseAt=np.dot(np.linalg.inv(AtA),At)\n",
    "   w=np.dot(AtA_InverseAt,B)\n",
    "   return w"
   ]
  },
  {
   "cell_type": "code",
   "execution_count": 3,
   "metadata": {},
   "outputs": [],
   "source": [
    "def testOLERegression(w,Xtest,ytest):\n",
    "#     print(Xtest)\n",
    "#     A=np.array(Xtest)\n",
    "#     print(len(A))\n",
    "#     B=np.array(ytest)\n",
    "    A = Xtest\n",
    "    B = ytest\n",
    "    wt=np.transpose(w)\n",
    "#     Xw =  np.dot(Xtest,w)\n",
    "#     y_XW = np.subtract(ytest,Xw)\n",
    "#     y_XWT = np.transpose(y_XW)\n",
    "#     loss = np.dot(y_XWT,y_XW)\n",
    "#     print(loss)\n",
    "    sum=0\n",
    "#     print(len(A[0]))\n",
    "    for i in range(0,len(A)):\n",
    "#      print(wt.shape)\n",
    "#      print(A[i].shape)\n",
    "     wtxi=np.dot(wt,A[i])\n",
    "#      print(A[i])\n",
    "#      print(wt)\n",
    "#      print(wtxi)\n",
    "     yiwtxi=np.subtract(B[i],wtxi)\n",
    "     yiwtxi2=np.square(yiwtxi)\n",
    "#      print(yiwtxi2)\n",
    "     sum=sum+yiwtxi2[0]\n",
    "    print(sum)\n",
    "    average=sum/len(A)\n",
    "    rmse=math.sqrt(average)\n",
    "    return rmse\n"
   ]
  },
  {
   "cell_type": "code",
   "execution_count": 4,
   "metadata": {},
   "outputs": [
    {
     "name": "stdout",
     "output_type": "stream",
     "text": [
      "4622066.136386112\n",
      "529292.791373155\n",
      "RMSE without intercept on train data - 138.20\n",
      "RMSE with intercept on train data - 46.77\n",
      "21355072.311183043\n",
      "741568.0363530915\n",
      "RMSE without intercept on test data - 326.76\n",
      "RMSE with intercept on test data - 60.89\n"
     ]
    }
   ],
   "source": [
    "Xtrain,ytrain,Xtest,ytest = pickle.load(open('diabetes.pickle','rb'),encoding='latin1')   \n",
    "# add intercept\n",
    "x1 = np.ones((len(Xtrain),1))\n",
    "x2 = np.ones((len(Xtest),1))\n",
    "\n",
    "Xtrain_i = np.concatenate((np.ones((Xtrain.shape[0],1)), Xtrain), axis=1)\n",
    "Xtest_i = np.concatenate((np.ones((Xtest.shape[0],1)), Xtest), axis=1)\n",
    "w = learnOLERegression(Xtrain,ytrain)\n",
    "w_i = learnOLERegression(Xtrain_i,ytrain)\n",
    "# print(np.size(w_i))\n",
    "# print(w)\n",
    "# print(w_i)\n",
    "rmse = testOLERegression(w,Xtrain,ytrain)\n",
    "\n",
    "rmse_i = testOLERegression(w_i,Xtrain_i,ytrain)\n",
    "print('RMSE without intercept on train data - %.2f'%rmse)\n",
    "print('RMSE with intercept on train data - %.2f'%rmse_i)\n",
    "\n",
    "rmse = testOLERegression(w,Xtest,ytest)\n",
    "rmse_i = testOLERegression(w_i,Xtest_i,ytest)\n",
    "print('RMSE without intercept on test data - %.2f'%rmse)\n",
    "print('RMSE with intercept on test data - %.2f'%rmse_i)\n"
   ]
  },
  {
   "cell_type": "markdown",
   "metadata": {},
   "source": [
    "### Problem 2 - Linear Regression with Gradient Descent"
   ]
  },
  {
   "cell_type": "code",
   "execution_count": null,
   "metadata": {},
   "outputs": [],
   "source": [
    "print('PROBLEM 2')\n",
    "print('----------')"
   ]
  },
  {
   "cell_type": "code",
   "execution_count": 5,
   "metadata": {},
   "outputs": [],
   "source": [
    "def regressionObjVal(w, X, y):\n",
    "#     A = X\n",
    "#     B = y\n",
    "#     wt=np.transpose(w)\n",
    "\n",
    "#     sum=0\n",
    "\n",
    "#     for i in range(0,len(A)):\n",
    "\n",
    "#      wtxi=np.dot(wt,A[i])\n",
    "\n",
    "#      yiwtxi=np.subtract(B[i],wtxi)\n",
    "#      yiwtxi2=np.square(yiwtxi)\n",
    "# #      print(yiwtxi2)\n",
    "#      sum=sum+yiwtxi2[0]\n",
    "#     loss=sum/2\n",
    "#     print(loss)\n",
    "    w=np.matrix(w)\n",
    "    w=w.transpose()\n",
    "    A=np.dot(X,w)\n",
    "    B=np.subtract(y,A)\n",
    "#     print(B.shape)\n",
    "    Bt=B.transpose()\n",
    "    e=np.dot(Bt,B)\n",
    "    E=0.5*e\n",
    "#     print(E)\n",
    "    error=E[0,0]\n",
    "#     print(error)\n",
    "    # compute squared error (scalar) with respect\n",
    "    # to w (vector) for the given data X and y      \n",
    "    #\n",
    "    # Inputs:\n",
    "    # w = d x 1\n",
    "    # X = N x d\n",
    "    # y = N x 1\n",
    "    # Output:\n",
    "    # error = scalar value\n",
    "\n",
    "    # IMPLEMENT THIS METHOD - REMOVE THE NEXT LINE\n",
    "    #error = 0\n",
    "    return error\n"
   ]
  },
  {
   "cell_type": "code",
   "execution_count": 8,
   "metadata": {},
   "outputs": [],
   "source": [
    "def regressionGradient(w, X, y):\n",
    "#     print(X.shape)\n",
    "#     print(y.shape)\n",
    "    AT = X.transpose()\n",
    "    ATA = np.dot(AT,X)\n",
    "#     print(ATA)\n",
    "#     print('=============')\n",
    "    w=np.matrix(w)\n",
    "    w=w.transpose()\n",
    "    ATAW = np.dot(ATA,w)\n",
    "#     print(ATAW)\n",
    "    ATB = np.dot(AT,y)\n",
    "    deltaJ = np.subtract(ATAW,ATB)\n",
    "#     print(deltaJ[0])\n",
    "    \n",
    "    error_grad = np.squeeze(np.asarray(deltaJ))\n",
    "#     print(error_grad)\n",
    "    # compute gradient of squared error (scalar) with respect\n",
    "    # to w (vector) for the given data X and y   \n",
    "    \n",
    "    # Inputs:\n",
    "    # w = d x 1\n",
    "    # X = N x d\n",
    "    # y = N x 1\n",
    "    # Output:\n",
    "    # gradient = d length vector (not a d x 1 matrix)\n",
    "\n",
    "    # IMPLEMENT THIS METHOD - REMOVE THE NEXT LINE \n",
    "\n",
    "#     error_grad = np.zeros((X.shape[1],))\n",
    "#     print(error_grad)\n",
    "    return error_grad"
   ]
  },
  {
   "cell_type": "code",
   "execution_count": 9,
   "metadata": {},
   "outputs": [
    {
     "name": "stdout",
     "output_type": "stream",
     "text": [
      "557357.6070866601\n",
      "Gradient Descent Linear Regression RMSE on train data - 47.99\n",
      "603917.1364403854\n",
      "Gradient Descent Linear Regression RMSE on test data - 54.95\n"
     ]
    }
   ],
   "source": [
    "Xtrain,ytrain,Xtest,ytest = pickle.load(open('diabetes.pickle','rb'),encoding='latin1')   \n",
    "# add intercept\n",
    "Xtrain_i = np.concatenate((np.ones((Xtrain.shape[0],1)), Xtrain), axis=1)\n",
    "Xtest_i = np.concatenate((np.ones((Xtest.shape[0],1)), Xtest), axis=1)\n",
    "args = (Xtrain_i,ytrain)\n",
    "opts = {'maxiter' : 50}    # Preferred value.    \n",
    "w_init = np.zeros((Xtrain_i.shape[1],1))\n",
    "soln = minimize(regressionObjVal, w_init, jac=regressionGradient, args=args,method='CG', options=opts)\n",
    "w = np.transpose(np.array(soln.x))\n",
    "w = w[:,np.newaxis]\n",
    "rmse = testOLERegression(w,Xtrain_i,ytrain)\n",
    "print('Gradient Descent Linear Regression RMSE on train data - %.2f'%rmse)\n",
    "rmse = testOLERegression(w,Xtest_i,ytest)\n",
    "print('Gradient Descent Linear Regression RMSE on test data - %.2f'%rmse)"
   ]
  },
  {
   "cell_type": "markdown",
   "metadata": {},
   "source": [
    "## Part 2 - Linear Classification"
   ]
  },
  {
   "cell_type": "markdown",
   "metadata": {},
   "source": [
    "### Problem 3 - Perceptron using Gradient Descent"
   ]
  },
  {
   "cell_type": "code",
   "execution_count": null,
   "metadata": {},
   "outputs": [],
   "source": [
    "print('PROBLEM 3')\n",
    "print('----------')"
   ]
  },
  {
   "cell_type": "code",
   "execution_count": 18,
   "metadata": {},
   "outputs": [],
   "source": [
    "import numpy as np\n",
    "from scipy.optimize import minimize\n",
    "import matplotlib.pyplot as plt\n",
    "import pickle\n",
    "import math\n",
    "import random"
   ]
  },
  {
   "cell_type": "code",
   "execution_count": 37,
   "metadata": {},
   "outputs": [],
   "source": [
    "def predictLinearModel(w,Xtest):\n",
    "#     w = np.matrix(w)\n",
    "    wt = np.transpose(w)\n",
    "#     print(wt.shape)\n",
    "#     wtx = np.dot(Xtest,w)\n",
    "    \n",
    "#     y = np.squeeze(np.asarray(wtx))\n",
    "#     print(y)\n",
    "    ypred = []\n",
    "    for i in range(len(Xtest)):\n",
    "        wtxi = np.dot(wt,Xtest[i])\n",
    "        if(wtxi > 0 or wtxi == 0):\n",
    "            ypred.append(1)\n",
    "        else:\n",
    "            ypred.append(-1)\n",
    "#     print(ypred.shape)\n",
    "    ypred = np.array(ypred)\n",
    "#     print(ypred)\n",
    "    ypred = ypred.reshape(len(Xtest), 1)\n",
    "#     print(ypred)\n",
    "    # Inputs:\n",
    "    # w = d x 1\n",
    "    # Xtest = N x d\n",
    "    # Output:\n",
    "    # ypred = N x 1 vector of predictions\n",
    "\n",
    "    # IMPLEMENT THIS METHOD - REMOVE THE NEXT LINE\n",
    "#     ypred = np.zeros([Xtest.shape[0],1])\n",
    "#     print(ypred.shape)\n",
    "    return ypred"
   ]
  },
  {
   "cell_type": "code",
   "execution_count": 42,
   "metadata": {},
   "outputs": [],
   "source": [
    "def evaluateLinearModel(w,Xtest,ytest):\n",
    "    pred = predictLinearModel(w,Xtest)\n",
    "#     print(pred)\n",
    "    ytest= np.squeeze(np.asarray(ytest))\n",
    "    ypred= np.squeeze(np.asarray(pred))\n",
    "#     print(ytest)\n",
    "#     print(ypred)\n",
    "\n",
    "#     print(total)\n",
    "    match=0\n",
    "    for i in range(len(ypred)):\n",
    "      if ytest[i]==ypred[i]:\n",
    "        match=match+1\n",
    "#     print(match)\n",
    "    acc= match/len(ypred)\n",
    "    # Inputs:\n",
    "    # w = d x 1\n",
    "    # Xtest = N x d\n",
    "    # ytest = N x 1\n",
    "    # Output:\n",
    "    # acc = scalar values\n",
    "\n",
    "    # IMPLEMENT THIS METHOD - REMOVE THE NEXT LINE\n",
    "#     acc = 0\n",
    "    return acc"
   ]
  },
  {
   "cell_type": "code",
   "execution_count": 44,
   "metadata": {},
   "outputs": [
    {
     "name": "stdout",
     "output_type": "stream",
     "text": [
      "Perceptron Accuracy on train data - 0.84\n",
      "Perceptron Accuracy on test data - 0.84\n"
     ]
    }
   ],
   "source": [
    "Xtrain,ytrain, Xtest, ytest = pickle.load(open('sample.pickle','rb')) \n",
    "# add intercept\n",
    "Xtrain_i = np.concatenate((np.ones((Xtrain.shape[0],1)), Xtrain), axis=1)\n",
    "Xtest_i = np.concatenate((np.ones((Xtest.shape[0],1)), Xtest), axis=1)\n",
    "\n",
    "args = (Xtrain_i,ytrain)\n",
    "opts = {'maxiter' : 50}    # Preferred value.    \n",
    "w_init = np.zeros((Xtrain_i.shape[1],1))\n",
    "soln = minimize(regressionObjVal, w_init, jac=regressionGradient, args=args,method='CG', options=opts)\n",
    "w = np.transpose(np.array(soln.x))\n",
    "w = w[:,np.newaxis]\n",
    "acc = evaluateLinearModel(w,Xtrain_i,ytrain)\n",
    "print('Perceptron Accuracy on train data - %.2f'%acc)\n",
    "acc = evaluateLinearModel(w,Xtest_i,ytest)\n",
    "print('Perceptron Accuracy on test data - %.2f'%acc)"
   ]
  },
  {
   "cell_type": "markdown",
   "metadata": {},
   "source": [
    "### Problem 4 - Logistic Regression Using Newton's Method"
   ]
  },
  {
   "cell_type": "code",
   "execution_count": null,
   "metadata": {},
   "outputs": [],
   "source": [
    "print('PROBLEM 4')\n",
    "print('----------')"
   ]
  },
  {
   "cell_type": "code",
   "execution_count": 128,
   "metadata": {},
   "outputs": [],
   "source": [
    "def logisticObjVal(w, X, y):\n",
    "    n = len(X)\n",
    "    wt = np.matrix(w)\n",
    "#     print(w)    \n",
    "#     print(X[0])\n",
    "    sum = 0\n",
    "    for i in range(len(X)):\n",
    "#         print(X[i])\n",
    "        wtx = np.dot(wt,X[i])\n",
    "#         print(wtx)\n",
    "        ywtx = np.dot(-y[i],wtx)\n",
    "#         print(ywtx)\n",
    "#         ywtx = np.asarray(ywtx)\n",
    "        ywtx = np.squeeze(np.asarray(ywtx))\n",
    "#         print(ywtx)\n",
    "#         print(np.matrix(y[i]))\n",
    "#         ywt = np.dot(-y[i],np.tr)\n",
    "        expt = math.exp(ywtx)\n",
    "    \n",
    "        logt = math.log(1+expt)\n",
    "        sum = sum+logt\n",
    "#         print(logt)\n",
    "#         print(\"=======\")\n",
    "    # compute log-loss error (scalar) with respect\n",
    "    # to w (vector) for the given data X and y                               \n",
    "    # Inputs:\n",
    "    # w = d x 1\n",
    "    # X = N x d\n",
    "    # y = N x 1\n",
    "    # Output:\n",
    "    # error = scalar\n",
    "#     print(sum)\n",
    "    error = sum/len(X)\n",
    "#     print(error)\n",
    "    if len(w.shape) == 1:\n",
    "        w = w[:,np.newaxis]\n",
    "#     print(w)\n",
    "    # IMPLEMENT THIS METHOD - REMOVE THE NEXT LINE\n",
    "#     error = 0\n",
    "    return error\n"
   ]
  },
  {
   "cell_type": "code",
   "execution_count": 129,
   "metadata": {},
   "outputs": [],
   "source": [
    "def logisticGradient(w, X, y):\n",
    "    n = len(X)\n",
    "    \n",
    "    wt = np.matrix(w)\n",
    "#     print(wt.shape)\n",
    "#     print(X[0])\n",
    "    y= np.squeeze(np.asarray(y))\n",
    "    sum = 0\n",
    "    for i in range(len(X)):\n",
    "        wtx = np.dot(wt,X[i])\n",
    "        ywtx = np.dot(y[i],wtx)\n",
    "        expt = 1 + math.exp(ywtx) \n",
    "        expt = np.squeeze(np.asarray(expt))\n",
    "        yi = y[i] / expt\n",
    "        num = np.dot(yi,X[i])\n",
    "#         print(num)\n",
    "        sum = sum +num\n",
    "    # compute the gradient of the log-loss error (vector) with respect\n",
    "    # to w (vector) for the given data X and y  \n",
    "    #\n",
    "    # Inputs:\n",
    "    # w = d x 1\n",
    "    # X = N x d\n",
    "    # y = N x 1\n",
    "    # Output:\n",
    "    # error = d length gradient vector (not a d x 1 matrix)\n",
    "    gradient = sum*(-1/n)\n",
    "#     print(gradient)\n",
    "    if len(w.shape) == 1:\n",
    "        w = w[:,np.newaxis]\n",
    "    # IMPLEMENT THIS METHOD - REMOVE THE NEXT LINE\n",
    "#     gradient = np.zeros((w.shape[0],))\n",
    "    \n",
    "    return gradient"
   ]
  },
  {
   "cell_type": "code",
   "execution_count": 176,
   "metadata": {},
   "outputs": [],
   "source": [
    "def logisticHessian(w, X, y):\n",
    "    n = len(X)\n",
    "    \n",
    "    wt = np.matrix(w)\n",
    "    sum = 0\n",
    "    for i in range(len(X)):\n",
    "        xi = np.matrix(X[i])\n",
    "        xi = np.reshape(xi,(len(X[0]),1))\n",
    "#         print(xi)\n",
    "        wtx = np.dot(wt,xi)\n",
    "#         print(wtx)\n",
    "        wtx2 = np.dot(wt,X[i])\n",
    "#         print(wtx2)\n",
    "        ywtx = np.dot(y[i],wtx)\n",
    "#         print(ywtx.shape)\n",
    "        exp =  math.exp(ywtx) \n",
    "        \n",
    "        xxt = np.dot(xi,np.transpose(xi))\n",
    "#         print(xxt.shape)\n",
    "        denom = (1+exp)**2\n",
    "        sum = sum+exp/denom*xxt\n",
    "        \n",
    "    # compute the Hessian of the log-loss error (matrix) with respect\n",
    "    # to w (vector) for the given data X and y                               \n",
    "    #\n",
    "    # Inputs:\n",
    "    # w = d x 1\n",
    "    # X = N x d\n",
    "    # y = N x 1\n",
    "    # Output:\n",
    "    # Hessian = d x d matrix\n",
    "    hessian = sum / n\n",
    "    print(hessian)\n",
    "    if len(w.shape) == 1:\n",
    "        w = w[:,np.newaxis]\n",
    "    # IMPLEMENT THIS METHOD - REMOVE THE NEXT LINE\n",
    "#     hessian = np.eye(X.shape[1])\n",
    "#     print(hessian)\n",
    "    return hessian"
   ]
  },
  {
   "cell_type": "code",
   "execution_count": 177,
   "metadata": {
    "scrolled": false
   },
   "outputs": [
    {
     "name": "stdout",
     "output_type": "stream",
     "text": [
      "[[0.25       0.55063901 0.25575427]\n",
      " [0.55063901 1.43742113 0.6995189 ]\n",
      " [0.25575427 0.6995189  0.94000141]]\n",
      "[[0.18262374 0.40932577 0.22625911]\n",
      " [0.40932577 1.08252022 0.58541743]\n",
      " [0.22625911 0.58541743 0.56750073]]\n",
      "[[0.14037314 0.3162139  0.18554069]\n",
      " [0.3162139  0.83469367 0.47431264]\n",
      " [0.18554069 0.47431264 0.38397506]]\n",
      "[[0.11938391 0.26905547 0.15990177]\n",
      " [0.26905547 0.70732638 0.40893923]\n",
      " [0.15990177 0.40893923 0.30652315]]\n",
      "[[0.11337163 0.25562297 0.15155053]\n",
      " [0.25562297 0.67160377 0.39015667]\n",
      " [0.15155053 0.39015667 0.28625938]]\n",
      "[[0.11281964 0.25439176 0.15079569]\n",
      " [0.25439176 0.6683374  0.38839679]\n",
      " [0.15079569 0.38839679 0.28441631]]\n",
      "[[0.11281527 0.25438202 0.15078976]\n",
      " [0.25438202 0.66831152 0.38838271]\n",
      " [0.15078976 0.38838271 0.28440164]]\n",
      "Logistic Regression Accuracy on train data - 0.84\n",
      "Logistic Regression Accuracy on test data - 0.86\n"
     ]
    }
   ],
   "source": [
    "Xtrain,ytrain, Xtest, ytest = pickle.load(open('sample.pickle','rb')) \n",
    "# add intercept\n",
    "Xtrain_i = np.concatenate((np.ones((Xtrain.shape[0],1)), Xtrain), axis=1)\n",
    "Xtest_i = np.concatenate((np.ones((Xtest.shape[0],1)), Xtest), axis=1)\n",
    "\n",
    "args = (Xtrain_i,ytrain)\n",
    "opts = {'maxiter' : 50}    # Preferred value.    \n",
    "w_init = np.zeros((Xtrain_i.shape[1],1))\n",
    "soln = minimize(logisticObjVal, w_init, jac=logisticGradient, hess=logisticHessian, args=args,method='Newton-CG', options=opts)\n",
    "w = np.transpose(np.array(soln.x))\n",
    "w = np.reshape(w,[len(w),1])\n",
    "acc = evaluateLinearModel(w,Xtrain_i,ytrain)\n",
    "print('Logistic Regression Accuracy on train data - %.2f'%acc)\n",
    "acc = evaluateLinearModel(w,Xtest_i,ytest)\n",
    "print('Logistic Regression Accuracy on test data - %.2f'%acc)"
   ]
  },
  {
   "cell_type": "markdown",
   "metadata": {},
   "source": [
    "### Problem 5 - Support Vector Machines Using Gradient Descent"
   ]
  },
  {
   "cell_type": "code",
   "execution_count": null,
   "metadata": {},
   "outputs": [],
   "source": [
    "print('PROBLEM 5')\n",
    "print('----------')"
   ]
  },
  {
   "cell_type": "code",
   "execution_count": null,
   "metadata": {},
   "outputs": [],
   "source": [
    "def trainSGDSVM(X,y,T,eta=0.01):\n",
    "    # learn a linear SVM by implementing the SGD algorithm\n",
    "    #\n",
    "    w = np.zeros(len(X))\n",
    "    for j in range(T):\n",
    "        i = random.randint(0,len(X))\n",
    "        ywt = np.dot(y[i],np.transpose(w))\n",
    "        ywtxi = np.dot(ywt,X[i])\n",
    "        if(ywtxi<1):\n",
    "            yixi = np.dot(y[i],X[i])\n",
    "            w = w-eta*yixi\n",
    "    # Inputs:\n",
    "    # X = N x d\n",
    "    # y = N x 1\n",
    "    # T = number of iterations\n",
    "    # eta = learning rate\n",
    "    # Output:\n",
    "    # weight vector, w = d x 1\n",
    "    \n",
    "    # IMPLEMENT THIS METHOD\n",
    "    w = np.zeros([X.shape[1],1])\n",
    "    return w"
   ]
  },
  {
   "cell_type": "code",
   "execution_count": null,
   "metadata": {},
   "outputs": [],
   "source": [
    "Xtrain,ytrain, Xtest, ytest = pickle.load(open('sample.pickle','rb')) \n",
    "# add intercept\n",
    "Xtrain_i = np.concatenate((np.ones((Xtrain.shape[0],1)), Xtrain), axis=1)\n",
    "Xtest_i = np.concatenate((np.ones((Xtest.shape[0],1)), Xtest), axis=1)\n",
    "\n",
    "args = (Xtrain_i,ytrain)\n",
    "w = trainSGDSVM(Xtrain_i,ytrain,100,0.01)\n",
    "acc = evaluateLinearModel(w,Xtrain_i,ytrain)\n",
    "print('SVM Accuracy on train data - %.2f'%acc)\n",
    "acc = evaluateLinearModel(w,Xtest_i,ytest)\n",
    "print('SVM Accuracy on test data - %.2f'%acc)"
   ]
  },
  {
   "cell_type": "markdown",
   "metadata": {},
   "source": [
    "### Problem 6 - Plotting decision boundaries"
   ]
  },
  {
   "cell_type": "code",
   "execution_count": null,
   "metadata": {},
   "outputs": [],
   "source": [
    "print('Problem 6')\n",
    "print('---------')"
   ]
  },
  {
   "cell_type": "code",
   "execution_count": null,
   "metadata": {},
   "outputs": [],
   "source": [
    "def plotBoundaries(w,X,y):\n",
    "    # plotting boundaries\n",
    "\n",
    "    mn = np.min(X,axis=0)\n",
    "    mx = np.max(X,axis=0)\n",
    "    x1 = np.linspace(mn[1],mx[1],100)\n",
    "    x2 = np.linspace(mn[2],mx[2],100)\n",
    "    xx1,xx2 = np.meshgrid(x1,x2)\n",
    "    xx = np.zeros((x1.shape[0]*x2.shape[0],2))\n",
    "    xx[:,0] = xx1.ravel()\n",
    "    xx[:,1] = xx2.ravel()\n",
    "    xx_i = np.concatenate((np.ones((xx.shape[0],1)), xx), axis=1)\n",
    "    ypred = predictLinearModel(w,xx_i)\n",
    "    ax.contourf(x1,x2,ypred.reshape((x1.shape[0],x2.shape[0])),alpha=0.3,cmap='cool')\n",
    "    ax.scatter(X[:,1],X[:,2],c=y.flatten())"
   ]
  },
  {
   "cell_type": "code",
   "execution_count": null,
   "metadata": {},
   "outputs": [],
   "source": [
    "Xtrain,ytrain, Xtest, ytest = pickle.load(open('sample.pickle','rb')) \n",
    "# add intercept\n",
    "Xtrain_i = np.concatenate((np.ones((Xtrain.shape[0],1)), Xtrain), axis=1)\n",
    "Xtest_i = np.concatenate((np.ones((Xtest.shape[0],1)), Xtest), axis=1)\n",
    "\n",
    "# Replace next three lines with code for learning w using the three methods\n",
    "w_perceptron = np.zeros((Xtrain_i.shape[1],1))\n",
    "w_logistic = np.zeros((Xtrain_i.shape[1],1))\n",
    "w_svm = np.zeros((Xtrain_i.shape[1],1))\n",
    "fig = plt.figure(figsize=(20,6))\n",
    "\n",
    "ax = plt.subplot(1,3,1)\n",
    "plotBoundaries(w_perceptron,Xtrain_i,ytrain)\n",
    "ax.set_title('Perceptron')\n",
    "\n",
    "ax = plt.subplot(1,3,2)\n",
    "plotBoundaries(w_logistic,Xtrain_i,ytrain)\n",
    "ax.set_title('Logistic Regression')\n",
    "\n",
    "ax = plt.subplot(1,3,3)\n",
    "plotBoundaries(w_svm,Xtrain_i,ytrain)\n",
    "ax.set_title('SVM')\n"
   ]
  }
 ],
 "metadata": {
  "anaconda-cloud": {},
  "kernelspec": {
   "display_name": "Python 3",
   "language": "python",
   "name": "python3"
  },
  "language_info": {
   "codemirror_mode": {
    "name": "ipython",
    "version": 3
   },
   "file_extension": ".py",
   "mimetype": "text/x-python",
   "name": "python",
   "nbconvert_exporter": "python",
   "pygments_lexer": "ipython3",
   "version": "3.7.6"
  }
 },
 "nbformat": 4,
 "nbformat_minor": 1
}
